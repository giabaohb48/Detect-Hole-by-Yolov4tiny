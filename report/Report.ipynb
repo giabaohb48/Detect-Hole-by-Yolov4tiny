{
  "nbformat": 4,
  "nbformat_minor": 0,
  "metadata": {
    "colab": {
      "name": "Report.ipynb",
      "provenance": [],
      "collapsed_sections": []
    },
    "kernelspec": {
      "name": "python3",
      "display_name": "Python 3"
    },
    "language_info": {
      "name": "python"
    }
  },
  "cells": [
    {
      "cell_type": "markdown",
      "metadata": {
        "id": "oSONXeorym6Q"
      },
      "source": [
        "<h1 align=\"center\"><b>CS231.L22.KHCL - Thị Giác Máy Tính</b></h1>\n",
        "<h1 align=\"center\"><b>ĐỒ ÁN CUỐI KÌ</b></h1>\n",
        "<h1 align=\"center\"><b>Đề tài: Phát hiện ổ gà trên đường bằng mạng học sâu</b></h1>"
      ]
    },
    {
      "cell_type": "markdown",
      "metadata": {
        "id": "34iukkApYIkc"
      },
      "source": [
        "**Giảng viên**\n",
        "- Mai Tiến Dũng"
      ]
    },
    {
      "cell_type": "markdown",
      "metadata": {
        "id": "9skeQMhLWOMa"
      },
      "source": [
        "**Thành viên**\n",
        "- Võ Gia Bảo - 18520502 \n",
        "- Nguyễn Đức Hà - 18520689 "
      ]
    },
    {
      "cell_type": "markdown",
      "metadata": {
        "id": "lkTNjBAhVWrD"
      },
      "source": [
        "**Giới thiệu bài toán và ứng dụng**\n",
        "\n",
        "- Những ai từng đi xe máy không ít thì nhiều cũng gặp ổ gà ổ vịt trên đường, nhất là trong mùa mưa này khi mà đường bị sụp lún rất nhiều, dễ gây ra nguy hiểm nếu chúng ta không để ý. \n",
        "\n",
        "- Nên nhóm chọn đồ án này với hy vọng xây dựng ra một model máy học giúp xác định chính xác vị trí các ổ gà trên đường, và nhóm hy vọng sẽ góp phần trong việc tạo ra một model để có thể ứng dụng trong xe tự hành."
      ]
    },
    {
      "cell_type": "markdown",
      "metadata": {
        "id": "EUoO0BfnMa1D"
      },
      "source": [
        "# **1. Mô tả bài toán**\n",
        "+ **Input**: một đoạn video stream trực tiếp từ camera, có chứa một con đường mà xe đang đi. Con đường có thể chứa ổ gà hoặc không, và đường có thể chứa xe cộ hoặc người đi đường và ổ gà có thể bị che mất, video lấy cả buổi sáng và buổi tối, không lấy video lúc trời đang mưa, tốc độ chạy của xe là 60km/h. Góc đặt camera trên xe xem trong phần dưới.\n",
        "\n",
        "  \n",
        "+ **Output**: một tập D các prediction của model gồm (c<sub>i</sub>, x<sub>i</sub>, y<sub>i</sub>, w<sub>i</sub>, h<sub>i</sub>) với i chạy từ 1 tới D. Trong đó:\n",
        "\n",
        "    **c<sub>i</sub>** là mức độ tự tin của model cho prediction này\n",
        "\n",
        "    **x<sub>i</sub>**, **y<sub>i</sub>** là vị trí top, left (theo pixel) của Bounding Box trong ảnh\n",
        "\n",
        "    **w<sub>i</sub>**, **h<sub>i</sub>** là vị trí right, down (theo pixel) của Bounding Box trong ảnh\n",
        "\n",
        "+ **Số nhãn:** Theo từ điển Việt Nam đã định nghĩa, ổ gà là \"chỗ mặt đường bị lở, lõm sâu xuống giống như ổ của gà\", ổ vịt thì không có định nghĩa, còn ổ voi chỉ dùng trong văn nói (Nguồn: http://tratu.soha.vn/dict/vn_vn/%E1%BB%94_g%C3%A0). Từ định nghĩa trên, nhóm quyết định chọn 1 nhãn cho bài toán này và gán nhãn dựa theo định nghĩa đó.\n",
        "\n",
        "+ **Góc đặt camera:** Về vị trí đặt camera trên xe, hiện tại theo như nhóm tìm hiểu: xe tự hành của hãng Tesla có camera đặt bên trong xe, còn xe của hãng Waymo và Uber có camera đặt bên ngoài (nguồn xem ảnh bên dưới). Hiện tại nhóm chỉ có thể chụp những bức ảnh bên ngoài xe, cho nên với bài toán này, nhóm chọn camera phải đặt ở bên ngoài xe và có góc đặt như hình của xe Waymo và Uber, nghĩa là camera phải nhìn về phía trước. \n",
        "\n",
        "+ **Góc chụp data:** Vì nhóm chọn góc đặt camera là bên ngoài xe và giống như hình dưới (Xe Uber và Waymo), nên nhóm sẽ chọn góc chụp ảnh lấy data là 90 độ, tức là lúc chụp ảnh phải để điện thoại vuông góc với mặt đường. Chọn góc chụp như thế sẽ làm cho các thành viên trong nhóm dễ canh góc chụp hơn."
      ]
    },
    {
      "cell_type": "markdown",
      "metadata": {
        "id": "BXlGTdLCBLCY"
      },
      "source": [
        "<div align=\"center\">\n",
        "<img src=\"https://drive.google.com/uc?export=view&id=1JLh90eiGqX0ZsBQGDeZadGIZbxDVnrUe\" width=\"700\"/>\n",
        "\n",
        "Xe tự hành Tesla - Nguồn: https://electrek.co/2016/10/20/tesla-new-autopilot-hardware-suite-camera-nvidia-tesla-vision\n",
        "</div>\n",
        "\n",
        "<div align=\"center\">\n",
        "<img src=\"https://drive.google.com/uc?export=view&id=1vAuu1v2QC_ZgRu5X3qsMZkOMrpOcOq2r\" width=\"700\"/>\n",
        "\n",
        "Xe tự hành Uber - Nguồn: https://spectrum.ieee.org/cars-that-think/transportation/self-driving/ntsb-investigation-into-deadly-uber-selfdriving-car-crash-reveals-lax-attitude-toward-safety\n",
        "</div>\n",
        "\n",
        "<div align=\"center\">\n",
        "<img src=\"https://drive.google.com/uc?export=view&id=1yYnhKSMraNJLsEsvf60LlLol4ZcF2Yor\" width=\"700\"/>\n",
        "\n",
        "Xe tự hành Waymo - Nguồn: https://www.businessinsider.com/how-does-googles-waymo-self-driving-car-work-graphic-2017-1\n",
        "</div>"
      ]
    },
    {
      "cell_type": "markdown",
      "metadata": {
        "id": "p2cKSiTuMdcG"
      },
      "source": [
        "# **2. Mô tả về bộ dữ liệu**\n",
        "\n",
        "*2.1. Cách thức xây dựng bộ dữ liệu:*\n",
        "\n",
        "- Toàn bộ dataset sẽ được nhóm chụp và gán nhãn cho từng ảnh. Nhóm sẽ dùng điện thoại để chụp ảnh các con đường hoặc quay video rồi lấy hình trong video ra. Góc chụp và điều kiện chụp giống phần Mô tả bài toán.\n",
        "- Về vị trí chụp nhóm chụp con đường và hẻm ở gần nhà. \n",
        "- Các thông tin cá nhân như địa chỉ nhà, biển số xe, mặt người,... sẽ bị tô đen.\n",
        "- Nhóm dùng bộ công cụ LabelImg trên GitHub (https://github.com/tzutalin/labelImg) của tác giả Darrenl để gán nhãn và dùng đoạn code từ GitHub (https://github.com/skanelo/Face-Mask-Detection/blob/main/xml_to_yolo.py) của tác giả Stefanos Kanellopoulos để chuyển label từ định dạng XML sang định dạng YOLO.\n",
        "- Nhóm dùng Google Drive để lưu dữ liệu (Link tới drive: https://drive.google.com/drive/folders/1-CEampEdYcYQu1cU1h3JWSouIWfPcrIC?usp=sharing) trong đó: DataRaw chứa các ảnh đã chụp của các thành viên chưa qua xử lí, DataMask chứa các ảnh chụp trực tiếp từ máy ảnh sau khi đã loại bỏ thông tin cá nhân, Annotation file nhãn theo định dạng XML.\n",
        "\n",
        "*2.2. Số lượng và độ đa dạng của bộ dữ liệu:*\n",
        "\n",
        "- Về số lượng, nhóm chụp được 1033 bức hình.\n",
        "- Về độ đa dạng, các ổ trong con đường được chụp dưới nhiều góc quay khác nhau (nhưng góc chụp vẫn là vuông góc với mặt đường), và nhiều khoảng cách khác nhau, con đường bao gồm có ổ hoặc không có ổ, con đường vắng hoặc có phương tiên giao thông và người đi bộ, các ổ trên đường có thể bị che mất hoặc không, chỉ có ảnh chụp sau khi mưa, không có ảnh nào chụp trong mưa vì các thành viên trong nhóm không có thiết bị chụp hình nào chống nước cả. Số ảnh chụp buổi sáng là 945 ảnh, số ảnh chụp buổi tối là 88 ảnh. Ảnh chụp từ 3 thiết bị: 2 điện thoại smartphone, 1 camera Canon Powershot SD1000, có 3 độ phân giải là 2016x4032, 3264x2448, 640x480. \n",
        "- Con đường chụp:\n",
        "\n",
        "<div align=\"center\">\n",
        "<img src=\"https://drive.google.com/uc?export=view&id=1nMKuf23jC-etvIm7J7YdMFKZmVGkxAlI\" width=\"500\"/>\n",
        "<p> TP.HCM, Phường Thạnh Xuân, Quận 12</p>\n",
        "</div>\n",
        "\n",
        "<div align=\"center\">\n",
        "<img src=\"https://drive.google.com/uc?export=view&id=1WYCAZvCy55VYIOjn5ZORoCXpxGv89L-1\" width=\"500\"/>\n",
        "<img src=\"https://drive.google.com/uc?export=view&id=1QHpJaXfcAzAcd9GQxtzkY1hJ1NuuXXXI\" width=\"500\"/>\n",
        "<p> TP. Đà Lạt, Phường 9 + 10</p>\n",
        "</div>\n",
        "\n",
        "<div align=\"center\">\n",
        "<img src=\"https://drive.google.com/uc?export=view&id=1g4OBSgE67t6FWjjS-c0f9UShsftytjkD\" height=\"500\"/>\n",
        "<img src=\"https://drive.google.com/uc?export=view&id=1XRaM_KaEcfP5Hm7XTSqp3CHyD22WWzRo\" height=\"500\"/>\n",
        "<p> TP.HCM, Quận 7</p>\n",
        "</div>\n",
        "\n"
      ]
    },
    {
      "cell_type": "markdown",
      "metadata": {
        "id": "5C5REs9pAap8"
      },
      "source": [
        "- Vài hình ảnh trong data:\n",
        "\n",
        "<div>\n",
        "<img src=\"https://drive.google.com/uc?export=view&id=1bnfGM8tD_GA_AHKvsx9hiXf5z27d0Ew2\" width=\"500\"/>\n",
        "<img src=\"https://drive.google.com/uc?export=view&id=1ofjlXTKKZyoDBl7Rzb3nUybmA-4TR5Qj\" width=\"500\"/>\n",
        "<img src=\"https://drive.google.com/uc?export=view&id=1hkToD4jC_CCQquA71rQ6F2yZIp2UndRP\" width=\"500\"/>\n",
        "<img src=\"https://drive.google.com/uc?export=view&id=1bTONHSQLKCNMcM1jaQLkEH1ACiLGNiqD\" width=\"500\"/>\n",
        "</div>\n",
        "\n",
        "\n",
        "\n"
      ]
    },
    {
      "cell_type": "markdown",
      "metadata": {
        "id": "32x4kutOHwhJ"
      },
      "source": [
        "**Nhận xét về bộ dữ liệu:**\n",
        "- Đầu tiên nhóm thấy rằng bộ dữ liệu này, tỉ lệ ngày và đêm bị cân bằng, số ảnh chụp ban ngày chiếm hơn 90% tổng số ảnh chụp được. Điều này nhóm cho rằng sẽ khiến cho mô hình không hoạt động không tốt với các trường hợp chạy trong ban đêm. \n",
        "- Độ phân giải của các ảnh không đồng nhất, trong đó có khoảng 200 ảnh chụp từ camera có độ phân giải 640x480, khoảng 200 ảnh chụp từ điện thoại có độ phân giải 3264x2448 và khoảng 600 ảnh chụp từ điện thoại có độ phân giải 2016x4032. Tất cả các image trước khi train phải resize lại theo đúng với kích thước của mô hình, mà mô hình nhóm chọn có size là 512x512 (xem phần 4), nên các ảnh sẽ downscale xuống, khiến cho các ổ gà ở phía xa bị mất đi thông tin (Nguồn: *Hashemi, \"Enlarging smaller images before inputting into convolutional neural network: zero‑padding vs. interpolation\", J Big Data 6, 98 (2019). p2*). \n",
        "- Chính việc downscale này sẽ làm ảnh hưởng tới độ chính xác của các mô hình (Nguồn: *Bouderbal et al.\"How would image down-sampling and compression impact object detection in the context of self-driving vehicles?\" in Ecole Militaire Polytechnique, Bordj El-Bahri BP 17, Algiers, Algeria. p11*)"
      ]
    },
    {
      "cell_type": "markdown",
      "metadata": {
        "id": "C38N_N7886Bk"
      },
      "source": [
        "*2.3. Tiền xử lý dữ liệu:*\n",
        "\n",
        "Sau khi thu thập được đủ tất cả các hình, nhóm sẽ tiến hành công đoạn tiền xử lý như sau:\n",
        "- Đầu tiên nhóm loại bỏ những bức hình nào bị mờ hoặc chụp bị lỗi, nghĩa là không thấy được con đường bằng mắt thường nếu nhìn vào trong ảnh hoặc những bức chụp sai góc (phần *Mô tả bài toán*), hoặc những bức bị lỗi như có vật chắn gần hết mọi thứ trong ảnh hoặc những bức ảnh chụp sai nội dung (VD: ảnh gia đình, bạn bè,...), hoặc cắt bớt những thành phần dư thừa trong ảnh (VD: ảnh chứa thanh taskbar của điện thoại).\n",
        "- Tiếp theo nhóm thực hiện việc che giấu các thông tin cá nhân có trên ảnh như biển số xe, mặt người, địa chỉ nhà,...\n",
        "- Tiếp đến nhóm đặt tên lại toàn bộ bức ảnh theo đoạn đường chụp với định dạng số_(day/night)_outside.jpg, nhóm dùng định dạng này vì thiết bị chụp của các thành viên chỉ cho ra định dạng jpg. Nhóm đặt tên như vậy để thuận tiện cho việc tổng hợp dữ liệu báo cáo và gán nhãn dữ liệu.\n",
        "- Cuối cùng nhóm tiến hành gán nhãn cho từng bức ảnh dùng công cụ (phần *Cách thức xây dựng bộ dữ liệu*).\n",
        "\n",
        "*2.4. Phân chia train/dev/test:*\n",
        "- Theo Andrew Ng (Train/Dev/Test Sets (C2W1L01) - https://www.youtube.com/watch?v=1waHlpKiNyY), với số lượng data từ 100 - 10000, tỉ lệ train/test là 70%/30%.\n",
        "- Tuy nhiên khi xem xét lại data mà nhóm thu thập được, nhóm thấy rằng có các ảnh nhìn rất rõ ổ gà, nhưng cũng có những ảnh có nhiều ổ gà nhưng lại nhìn không rõ. Chẳng hạn như đoạn đường sau, những ô màu đỏ là ground truth mà nhóm thống nhất:\n",
        "\n",
        "<div>\n",
        "<img src=\"https://drive.google.com/uc?export=view&id=1XXUg47aRng7plbO3hfvVXyolld9XjbP2\" height=\"640\"/>\n",
        "<img src=\"https://drive.google.com/uc?export=view&id=1QQgBz39AN55jHWdecd6jykxAgejBFhaU\" height=\"640\"/>\n",
        "<img src=\"https://drive.google.com/uc?export=view&id=1BCkeHk1qbtPoTlZk3NY8zbWbFyXfxcU5\" height=\"640\"/>\n",
        "<img src=\"https://drive.google.com/uc?export=view&id=1YQBxAKfG6acO2LeOqVYVogS0RkTx2tjk\" height=\"640\"/>\n",
        "</div>\n",
        "\n",
        "- Có thể thấy 2 đoạn đường trên dù đường có rất nhiều ổ gà, nhưng khi chụp dưới góc 90 độ như thế thì có những chỗ mà nhóm không chắc nó có phải ổ gà hay không, hoặc có những ổ gà bị ẩn trong màu nền của con đường. \n",
        "- Hơn nữa có những chỗ khi chụp vào ban đêm, vị trí ánh đèn đường rọi làm cho các ổ gà thấy được khi chụp ở góc bên này nhưng lại không thấy ở góc khác, ảnh sau chụp cùng 1 chỗ:\n",
        "\n",
        "<div>\n",
        "<img src=\"https://drive.google.com/uc?export=view&id=1UUeZqtYiAsHHaL-ZRFICEhmf4exwLApN\" width=\"500\"/>\n",
        "<img src=\"https://drive.google.com/uc?export=view&id=1MDW-Z9uCv9S2ZO5zC0hee1va8-nQkcHt\" width=\"500\"/>\n",
        "</div>\n",
        "\n",
        "- Ngoài ra ổ gà trên đường còn có rất nhiều hình dạng khác nhau, trong cùng 1 đoạn đường nhưng nếu chụp ở 2 vị trí khác nhau sẽ cho ra 2 hình dạng khác nhau: \n",
        "\n",
        "<div>\n",
        "<img src=\"https://drive.google.com/uc?export=view&id=1HOkLgUA5eP68VH3HGI1oeVZhfqmYR5OL\" width=\"500\"/>\n",
        "<img src=\"https://drive.google.com/uc?export=view&id=1UAdimfodQJo8KM-_H4GUgi3cX-DSLLuY\" width=\"500\"/>\n",
        "</div>\n",
        "\n",
        "- Hơn nữa còn có trường hợp ổ gà bị chắn ngang bởi xe trên đường:\n",
        "\n",
        "<div>\n",
        "<img src=\"https://drive.google.com/uc?export=view&id=1CoJHHgMN4mtIPMDKmxNK-LgeUDP5itHB\" width=\"500\"/>\n",
        "<img src=\"https://drive.google.com/uc?export=view&id=1VGBXGL77PtlPiWIEpAVQ73JuscYRYn-v\" width=\"500\"/>\n",
        "</div>\n",
        "\n",
        "- Và còn nhiều hình dạng với các điều kiện ánh sáng khác nhau:\n",
        "\n",
        "<div>\n",
        "<img src=\"https://drive.google.com/uc?export=view&id=1RvIHFUSlhXivKwC-EUDYZf0r5jrf_Qpd\" width=\"500\"/>\n",
        "<img src=\"https://drive.google.com/uc?export=view&id=1FPIG2YY16S3JsdWMxeadVOlNIajZHE9N\" width=\"500\"/>\n",
        "<img src=\"https://drive.google.com/uc?export=view&id=1R8qk2wae4GztEf-a0mdegXxFx5fc5msw\" height=\"640\"/>\n",
        "<img src=\"https://drive.google.com/uc?export=view&id=1stSf4MxtotwNHsAl7B9Gn_fA95MOqbLm\" height=\"640\"/>\n",
        "</div>\n",
        "\n",
        "- Từ đó nhóm thấy rằng bài toán này có độ phức tạp cao, mặc dù chỉ có một ổ gà nhưng khi đứng ở nhiều vị trí, nó lại có nhiều hình dạng và kích thước khác nhau, cũng như điều kiện ánh sáng khác nhau, hơn nữa số lượng ảnh thu thập được theo nhóm thấy là ít so với bài toán có độ đa dạng cao như vậy. Nên sau khi bàn bạc với các thành viên trong nhóm, nhóm quyết định chia tỉ lệ train/test là 80%/20%.  "
      ]
    },
    {
      "cell_type": "markdown",
      "metadata": {
        "id": "y6LftEO9E-dx"
      },
      "source": [
        "# **3. Mô tả về đặc trưng ảnh trong dataset**\n",
        "\n",
        "- Từ các bức ảnh mà nhóm thu thập được:\n",
        "\n",
        "<div>\n",
        "<img src=\"https://drive.google.com/uc?export=view&id=1a95rBmFE3aML6YV_W7sj51EtPRzegPVN\" width=\"500\"/>\n",
        "<img src=\"https://drive.google.com/uc?export=view&id=1NlOtK3Up1k9MMou7hBB293RqeSmECTau\" width=\"500\"/>\n",
        "<img src=\"https://drive.google.com/uc?export=view&id=1MMJH_p0bXscrSsoDarHz7KrYxcBuBKeI\" width=\"500\"/>\n",
        "<img src=\"https://drive.google.com/uc?export=view&id=1E7T1nism-Yy4WyR-KDevZCfpOEd46mgF\" width=\"500\"/>\n",
        "</div>\n",
        "\n",
        "- Nhìn qua các ảnh trên, nhóm thấy rằng các ổ gà, ổ vịt đều có các đặc điểm sau: \n",
        "\n",
        "1.   Các ổ đều nằm trên mặt đường\n",
        "2.   Có thể có vũng nước hoặc không có vũng nước trong ổ\n",
        "3.   Có hình dáng chung là một cái vòng\n",
        "4.   Các ổ có kích thước khác nhau, và góc chụp khác nhau\n",
        "5.   Điều kiện thời tiết và ánh sáng khác nhau\n",
        "\n",
        "- Bài toán nhóm làm là bài toán Object Detection, và bài toán này có thể dùng được đặc trưng handcrafted như SIFT, HOG,... và đặc trưng học sâu (Nguồn: https://en.wikipedia.org/wiki/Object_detection#Methods). Nhưng khi nhóm nhìn vào các đặc điểm trên, nhóm nhận định rằng các đặc điểm rất đa dạng (đã nói ở phần *2.4. Phân chia train/dev/test:*), hơn nữa khi dùng đặc trưng học sâu, nó sẽ cho ra độ chính xác cao cho bài toán Object Detection bởi vì các đặc trưng học sâu sẽ tự động học các pattern từ những data mà mình đưa vào, còn các đặc trưng handcrafted phải đòi hỏi người thiết kế phải ngồi tinh chỉnh sao cho phù hợp với bài toán của mình, việc này sẽ tốn rất nhiều thời gian (Nguồn:  *O’ Mahony et al.\"Deep Learning vs. Traditional Computer Vision\" in IMaR Technology Gateway, Institute of Technology Tralee, Tralee, Ireland. p3*).\n",
        "- Vì thế sau khi cân nhắc thời gian thực hiện đồ án và các đặc trưng, nhóm quyết định chọn đặc trưng học sâu cho bài toán này.\n"
      ]
    },
    {
      "cell_type": "markdown",
      "metadata": {
        "id": "qcamUjmkDj2_"
      },
      "source": [
        "# **4. Mô tả thuật toán máy học**\n",
        "\n",
        "*4.1. Tổng quan:*\n",
        "- Vì bài toán nhóm chọn là bài toán detection theo thời gian thực nên nhóm cần mô hình nào có tốc độ chạy và độ chính xác cân bằng nhau.\n",
        "- Sau khi tìm kiếm, nhóm quyết định sẽ dùng mạng YOLOv4 trên kiến trúc darknet\n",
        "- Nhóm sẽ sử dụng pretrained model có sẵn để xây dựng mô hình của riêng nhóm, lí do là vì việc train lại mô hình từ ban đầu tốn rất nhiều công sức và rất phức tạp, hơn nữa bộ data của nhóm có khoảng 1000 ảnh, có thể nói là rất nhỏ nên không thể so với các tập dữ liệu lớn mà các mô hình trên train.\n",
        "\n",
        "*4.2. YOLOv4:*\n",
        "- Lí do nhóm chọn mạng YOLO là vì tốc độ của mạng YOLO. Các mạng CNN chính xác nhất hiện nay cho độ chính xác cao hơn YOLO, nhưng tốc độ của nó lại chậm hơn YOLO, và không thể chạy trên các bài toán đòi hỏi tốc độ chạy cao. Còn mạng YOLO có độ chính xác không cao nhưng đổi lại tốc độ của nó chạy nhanh hơn các mạng CNN trên rất nhiều. (Nguồn: *Bochkovskiy et al.\"YOLOv4: Optimal Speed and Accuracy of Object Detection\", p1*)\n",
        "\n",
        "<div align=\"center\" >\n",
        "<img src=\"https://drive.google.com/uc?export=view&id=1Fxn2aZNzLHhlnMiiBMJgTX_jH3j3KI8K\" width=\"500\" />\n",
        "\n",
        "Bảng so sánh giữa tốc độ (tính theo FPS) và độ chính xác của YOLOv4 với các mô hình Object Detection khác. Ảnh lấy từ bài báo \"YOLOv4: Optimal Speed and Accuracy of Object Detection\", Alexey Bochkovskiy, Chien-Yao Wang, Hong-Yuan Mark Liao, ngày 23/4/2020.\n",
        "</div>\n",
        "\n",
        "- Hiện tại có rất nhiều mô hình YOLO, ví dụ: YOLOv2, YOLOv3, YOLO-PP,... nhưng nhóm chỉ chọn mô hình YOLOv4 trên kiến trúc darknet cho bài toán. Lí do là vì YOLOv4 của tác giả Alexey có tốc độ và độ chính xác cao hơn các YOLO đời trước, hơn nữa YOLOv4 có tài liệu chi tiết trong việc train mô hình riêng.\n",
        "\n",
        "- **YOLOv4:** mô hình này dùng kiến trúc CSPDarknet53 để extract feautures và detect các object trên 3 scale khác nhau, ngoài ra YOLOv4 còn áp dụng 2 phương pháp là Bag of Freebies và Bag of Specials, giúp tối ưu quá trình training và cải thiện độ chính xác của mô hình. (Nguồn: https://blog.roboflow.com/a-thorough-breakdown-of-yolov4/)\n"
      ]
    },
    {
      "cell_type": "markdown",
      "metadata": {
        "id": "GFLFee9LwWmX"
      },
      "source": [
        "# **5. Cài đặt, tinh chỉnh tham số**\n",
        "\n",
        "*5.1. YOLOv4-tiny:*\n",
        "- Nhóm dùng file yolov4_hole_tiny.cfg đã được chỉnh sửa từ yolov4-custom.cfg cho mô hình. Tất cả các tham số trong file yolov4-tiny-custom.cfg nhóm sẽ giữ nguyên và chỉ thay đổi những tham số sau theo lời của tác giả (Nguồn: https://github.com/AlexeyAB/darknet#how-to-train-to-detect-your-custom-objects):\n",
        " 1. Thay đổi width=416, height=416 thành width=512, height=512.\n",
        " 2. Thay dòng max_batches=500500 thành max_batches=6000.\n",
        " 3. Thay dòng steps=400000,450000 thành steps=4800,5400.\n",
        " 4. Thay đổi classes=80 thành classes=1 tại mỗi lớp [yolo], và thay đổi filters=255 thành filters=18 ngay tại lớp trước mỗi lớp [yolo] đó.\n",
        "- YOLOv4 sẽ tự động lưu file weight nào có mAP@0.5 cao nhất trong các lần train.\n",
        "\n",
        "\n",
        "*5.2. Về việc chọn số steps:*\n",
        "- Đối với YOLOv4-tiny, tác giả đưa ra con số max_batches=6000, đây chính là số steps train.\n",
        "\n",
        "*5.3. Kết quả thực nghiệm:*\n",
        "- Sau khi tinh chỉnh và train lại mô hình theo custom obj, nhóm thu được kết quả mô hình khá khả quan với mAP=73.58% và tốc độ xử lý cơ bản trên một ảnh là 0.05s.\n",
        "- Một số ảnh đã detect được từ mô hình:\n",
        "<div>\n",
        "<img src=\"https://drive.google.com/uc?export=view&id=1bNGbfKHL9_BmdSGMpfb3eWz2LqXYPpII\" width=\"500\" />\n",
        "<img src=\"https://drive.google.com/uc?export=view&id=1imSCxEyXz3GBGOz9zuv5g1I-ySre6lzN\" width=\"500\" />\n",
        "</div>\n",
        "- Thử nghiệm trên Video:\n",
        "\n",
        "[![video](https://res.cloudinary.com/marcomontalbano/image/upload/v1625501001/video_to_markdown/images/google-drive--1O25uEz7T_Hui_Rf6jx-oQl2_IzeENtUq-c05b58ac6eb4c4700831b2b3070cd403.jpg)](https://drive.google.com/file/d/1O25uEz7T_Hui_Rf6jx-oQl2_IzeENtUq/view?fbclid=IwAR1jC_HjR7RXd_EyAj2NpsLEle1_CIX5_AwzDw3NYeyQa5dYBYBxQ5vJTWM \"video\")\n",
        "\n",
        "Nhóm thu được kết quả thực nghiệm trên video với độ phân giải 720p là 18.83 fps và độ phân giải 1080p là 14.42 fps\n",
        "\n",
        "\n",
        "\n"
      ]
    },
    {
      "cell_type": "markdown",
      "metadata": {
        "id": "XfktnbL8l0gs"
      },
      "source": [
        "# **6. Nhận xét, cải tiến và kết luận**\n",
        "\n",
        "*6.1. Nhận xét:*\n",
        "- Model của nhóm nhận dạng khá tốt với những hình ảnh đường giao thông ở Việt Nam và những con đường có độ tương đồng với dataset\n",
        "- Tốc độ xử lý và độ chính xác trên mỗi ảnh nằm ở mức độ chấp nhận được.\n",
        "- Đảm bảo độ realtime cho những ứng dụng thực tiễn trong tương lai mà nhóm đang nghiên cứu\n",
        "- So với các Model khác mà nhóm có làm so sánh thì Yolov4 luôn đi đầu trong tốc độ và mAP nằm ở mức tầm trung, tuy nhiên nếu xét về cả 2 mặt thì Yolov4 luôn là sự lựa chọn tối ưu.\n",
        "- Vì nhiêu nguyên nhân khách quan nên lượng dataset của nhóm còn hạn chế, chưa đa dạng, thế nên vẫn model vẫn chưa nhận dạng được những ổ gà có hình thù đặc biệt.\n",
        "\n",
        "*6.2. Cải tiến:*\n",
        "- Trong tương lai, nhóm sẽ phát triển model của mình thêm như nhận dạng thêm nhiều đối tượng khác như các phương tiện, biển báo...\n",
        "- Thu thập thêm dataset ở nhiều nơi với độ đa dạng tăng thêm.\n",
        "- Tìm hiểu thêm các model nhận dạng tối tượng khác, nghiên cứu và lựa chọn thích hợp cho bài toán của nhóm.\n",
        "- Viết ra các ứng dụng sử dụng model để hiện thực hóa mục tiêu của nhóm\n",
        "\n",
        "*6.3. Kết luận:*\n",
        "- Kiến trúc của Yolov4 đã đưa bài toán Object Detection dễ tiếp cận với những cá nhân không có tài nguyên tính toán mạnh. \n",
        "- Chúng ta hoàn toàn có thể huấn luyện một mạng phát hiện vật thể chỉ với GPU 1080ti\n",
        "- Trong tương lai, việc tối ưu các mạng hiện tại để phù hợp với tài nguyên tính toán yéu hoặc tạo ra sự song song hóa cao ở các sever chắc chắn phải được thực hiện để có thể đưa các ứng dụng Computer Vision vào thực tế\n",
        "- Việc ứng dụng công nghệ vào đời sống nhằm cải thiện được chất lượng cuộc sống của người dân, một phần nào đó giúp cho đất nước ngày càng phát triển hơn, con người ngày càng văn minh hơn."
      ]
    },
    {
      "cell_type": "markdown",
      "metadata": {
        "id": "jJUJW2kyAS27"
      },
      "source": [
        "# **7. Tài liệu tham khảo**\n",
        "[1] YOLO: Real-time Object Detection \n",
        "\n",
        "[2] Paper You Only Look Once: Unified, Real-Time Object Detection\n",
        "\n",
        "[3] AlexeyAB/darknet: YOLOv4 / Scaled-YOLOv4 / YOLO - Neural Networks for Object Detection (Windows and Linux version of Darknet ) (github.com)\n",
        "\n",
        "[4] Tìm hiểu mô hình YOLO cho phát hiện vật - Từ YOLOv1 đến YOLOv5 | AI Curious\n",
        "\n",
        "[5] YOLO object detection with OpenCV – PyImageSearch\n",
        "\n",
        "[6] YOLOv4: Optimal Speed and Accuracy of Object Detection\n",
        "\n",
        "[7] A look at Tesla's new Autopilot hardware suite: 8 cameras, 1 radar, ultrasonics & new supercomputer - Electrek\n",
        "\n",
        "\n"
      ]
    }
  ]
}